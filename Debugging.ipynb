{
 "cells": [
  {
   "cell_type": "code",
   "execution_count": 1,
   "metadata": {
    "collapsed": true
   },
   "outputs": [],
   "source": [
    "import matplotlib.pyplot as plt\n",
    "from matplotlib import animation\n",
    "from random import choice, random, randint\n",
    "from math import exp, sqrt, log, sinh\n",
    "import numpy as np\n",
    "import sys\n",
    "import time"
   ]
  },
  {
   "cell_type": "code",
   "execution_count": 2,
   "metadata": {
    "collapsed": true
   },
   "outputs": [],
   "source": [
    "N_VALUES = [10, 50, 100] # Values for N\n",
    "N_WAIT_VALUES = [100, 1000] # Steps to let the system ''relax'' to the important states\n",
    "N_SAMPLES_VALUES = [1000, 10000]"
   ]
  },
  {
   "cell_type": "code",
   "execution_count": 3,
   "metadata": {
    "collapsed": true
   },
   "outputs": [],
   "source": [
    "T = np.linspace(0.2,4.0,20,endpoint=True)\n",
    "\n",
    "Tc = float(2/log(1 + sqrt(2)))\n",
    "\n",
    "plot_dic = {}\n"
   ]
  },
  {
   "cell_type": "code",
   "execution_count": 391,
   "metadata": {
    "collapsed": false
   },
   "outputs": [],
   "source": [
    "def change_energy(row, column,system):\n",
    "    rows,columns = system.shape\n",
    "    energy = system[row][column]*(system[(row+1)%rows][column]+system[row][(column+1)%columns]+system[(row-1)%rows][column]+system[row][(column-1)%columns])*2\n",
    "    return energy\n",
    "\n",
    "def myenergy(system):\n",
    "    rows, columns = system.shape\n",
    "    E = 0.\n",
    "    count = np.array([[0]*rows]*columns)\n",
    "    for i in range(rows):\n",
    "        for j in range(columns):\n",
    "            \n",
    "            aux = -system[i][j]*(system[(i+1)%rows][j]+system[i][(j+1)%columns]+system[(i-1)%rows][j]+system[i][(j-1)%columns])/2\n",
    "\n",
    "            E += aux\n",
    "            count[i,j] = aux\n",
    "           \n",
    "            #print i,j, E\n",
    "    return E,count\n",
    "    \n",
    "    "
   ]
  },
  {
   "cell_type": "code",
   "execution_count": 6,
   "metadata": {
    "collapsed": true
   },
   "outputs": [],
   "source": [
    "def calculate_variation_of_energy(row,column,N):\n",
    "    return -4*check_energy(row,column,N)"
   ]
  },
  {
   "cell_type": "code",
   "execution_count": 169,
   "metadata": {
    "collapsed": true
   },
   "outputs": [],
   "source": [
    "N = N_VALUES[0]"
   ]
  },
  {
   "cell_type": "code",
   "execution_count": 8,
   "metadata": {
    "collapsed": true
   },
   "outputs": [],
   "source": [
    "i, wait = enumerate(N_WAIT_VALUES)"
   ]
  },
  {
   "cell_type": "code",
   "execution_count": 9,
   "metadata": {
    "collapsed": false
   },
   "outputs": [],
   "source": [
    "E = {} # energy\n",
    "E_2 = {} # energy squared\n",
    "magnetization = {}\n",
    "magnetization_2 = {}\n",
    "C = {} #specifid heat\n",
    "infinite_magnetization={} #infinte magnetization"
   ]
  },
  {
   "cell_type": "code",
   "execution_count": 10,
   "metadata": {
    "collapsed": true
   },
   "outputs": [],
   "source": [
    "Ti = T[0]"
   ]
  },
  {
   "cell_type": "code",
   "execution_count": 237,
   "metadata": {
    "collapsed": true
   },
   "outputs": [],
   "source": [
    "system = []\n",
    "for i in range(N):\n",
    "    system.append([])\n",
    "    for j in range(N):\n",
    "        system[-1].append(choice([-1,1]))\n",
    "system = np.array(system)"
   ]
  },
  {
   "cell_type": "code",
   "execution_count": 238,
   "metadata": {
    "collapsed": false
   },
   "outputs": [
    {
     "name": "stdout",
     "output_type": "stream",
     "text": [
      "(10, 10)\n"
     ]
    }
   ],
   "source": [
    "print system.shape"
   ]
  },
  {
   "cell_type": "code",
   "execution_count": 13,
   "metadata": {
    "collapsed": false
   },
   "outputs": [],
   "source": [
    "probability = {}\n",
    "energies = np.array([-8, -4, -2, 0, 2, 4, 8])\n",
    "k_b = 1\n",
    "for energy in energies:\n",
    "    probability[energy] = exp(-energy/float(Ti))"
   ]
  },
  {
   "cell_type": "code",
   "execution_count": 14,
   "metadata": {
    "collapsed": false
   },
   "outputs": [
    {
     "name": "stdout",
     "output_type": "stream",
     "text": [
      "{0: 1.0, 2: 4.5399929762484854e-05, 4: 2.061153622438558e-09, 8: 4.248354255291589e-18, -8: 2.3538526683702e+17, -4: 485165195.4097903, -2: 22026.465794806718}\n"
     ]
    }
   ],
   "source": [
    "print probability"
   ]
  },
  {
   "cell_type": "code",
   "execution_count": 239,
   "metadata": {
    "collapsed": false
   },
   "outputs": [],
   "source": [
    "system_energy = np.array([[0.]*N]*N,dtype='float')\n",
    "total_energy = 0\n",
    "total_magnetization = 0\n",
    "for i in xrange(1,N-1):\n",
    "    for j in xrange(1,N-1):\n",
    "        auxE = check_energy(i, j,N)\n",
    "        total_energy += auxE\n",
    "        total_magnetization += system[i][j]\n",
    "        system_energy[i,j] = auxE\n"
   ]
  },
  {
   "cell_type": "code",
   "execution_count": 245,
   "metadata": {
    "collapsed": false
   },
   "outputs": [
    {
     "name": "stdout",
     "output_type": "stream",
     "text": [
      "17    -4 \n",
      "[[ 1 -1  1  1 -1  1 -1 -1 -1  1]\n",
      " [-1  1 -1  1 -1 -1  1 -1  1  1]\n",
      " [-1  1  1 -1 -1  1 -1  1  1 -1]\n",
      " [ 1  1 -1  1  1 -1  1 -1 -1  1]\n",
      " [-1 -1  1 -1  1 -1 -1 -1 -1 -1]\n",
      " [ 1  1  1 -1  1 -1 -1 -1 -1 -1]\n",
      " [-1  1  1  1 -1 -1  1 -1  1  1]\n",
      " [ 1 -1 -1  1  1  1 -1 -1  1  1]\n",
      " [-1 -1 -1  1 -1  1 -1  1 -1  1]\n",
      " [ 1 -1  1 -1 -1 -1  1  1  1  1]] \n",
      "[[ 0.  0.  0.  0.  0.  0.  0.  0.  0.  0.]\n",
      " [ 0.  1.  2.  1. -1.  1.  2.  1.  0.  0.]\n",
      " [ 0. -1.  1.  1.  0.  2.  2.  1.  0.  0.]\n",
      " [ 0.  0.  2.  1.  0.  1.  2.  0.  0.  0.]\n",
      " [ 0.  1.  1.  1.  0. -1. -1. -2. -2.  0.]\n",
      " [ 0. -1. -1.  1.  1. -1. -1. -2. -1.  0.]\n",
      " [ 0.  0. -1.  0.  1.  0.  2.  0.  0.  0.]\n",
      " [ 0.  0.  0. -1.  0.  0.  0.  0.  0.  0.]\n",
      " [ 0. -2.  0.  1.  1.  1.  1.  1.  2.  0.]\n",
      " [ 0.  0.  0.  0.  0.  0.  0.  0.  0.  0.]]\n"
     ]
    }
   ],
   "source": [
    "print total_energy , '  ' , total_magnetization , '\\n' , system,'\\n', system_energy"
   ]
  },
  {
   "cell_type": "code",
   "execution_count": 241,
   "metadata": {
    "collapsed": false
   },
   "outputs": [
    {
     "data": {
      "text/plain": [
       "(0.0, -1)"
      ]
     },
     "execution_count": 241,
     "metadata": {},
     "output_type": "execute_result"
    }
   ],
   "source": [
    "system_energy[0,0],check_energy(5,5,N)"
   ]
  },
  {
   "cell_type": "code",
   "execution_count": 252,
   "metadata": {
    "collapsed": false
   },
   "outputs": [
    {
     "data": {
      "text/plain": [
       "(24.0, array([[ 0,  1,  0,  0,  0,  2,  1, -1,  1, -1],\n",
       "        [ 1,  1,  2,  1, -1,  1,  2,  1,  0,  0],\n",
       "        [ 0, -1,  1,  1,  0,  2,  2,  1,  0,  1],\n",
       "        [ 0,  0,  2,  1,  0,  1,  2,  0,  0,  1],\n",
       "        [ 0,  1,  1,  1,  0, -1, -1, -2, -2, -1],\n",
       "        [ 1, -1, -1,  1,  1, -1, -1, -2, -1,  0],\n",
       "        [ 2,  0, -1,  0,  1,  0,  2,  0,  0,  0],\n",
       "        [ 1,  0,  0, -1,  0,  0,  0,  0,  0, -2],\n",
       "        [ 1, -2,  0,  1,  1,  1,  1,  1,  2,  0],\n",
       "        [ 0,  0,  1,  1, -2,  1,  1, -1,  0, -2]]))"
      ]
     },
     "execution_count": 252,
     "metadata": {},
     "output_type": "execute_result"
    }
   ],
   "source": [
    " myenergy(system)"
   ]
  },
  {
   "cell_type": "code",
   "execution_count": 21,
   "metadata": {
    "collapsed": false
   },
   "outputs": [],
   "source": [
    "system= np.array([[1,-1,1,-1,1,-1],[-1,1,-1,1,-1,1],[1,-1,1,-1,1,-1],[-1,1,-1,1,-1,1],[1,-1,1,-1,1,-1],[-1,1,-1,1,-1,1]])\n"
   ]
  },
  {
   "cell_type": "code",
   "execution_count": 136,
   "metadata": {
    "collapsed": false
   },
   "outputs": [],
   "source": [
    "wait = 100"
   ]
  },
  {
   "cell_type": "code",
   "execution_count": 412,
   "metadata": {
    "collapsed": false
   },
   "outputs": [
    {
     "name": "stdout",
     "output_type": "stream",
     "text": [
      "-8.0 -8\n"
     ]
    }
   ],
   "source": [
    "#for step in np.arange(wait):\n",
    "auxsystem = np.copy(system)\n",
    "column=randint(0,N-1)\n",
    "row=randint(0,N-1)\n",
    "auxsystem[row,column] *= -1\n",
    "deltaE = myenergy(auxsystem)[0]-myenergy(system)[0]\n",
    "a = change_energy(row,column,system)\n",
    "print deltaE,a\n",
    "\n",
    "#if deltaE>0:\n",
    "#   if exp(deltaE/Ti)<random():\n",
    "#      system = np.copy(auxsystem)"
   ]
  },
  {
   "cell_type": "code",
   "execution_count": 390,
   "metadata": {
    "collapsed": false
   },
   "outputs": [
    {
     "name": "stdout",
     "output_type": "stream",
     "text": [
      "1 3\n",
      "[[ 1  1 -1]\n",
      " [-1  1 -1]\n",
      " [ 1 -1 -1]]\n",
      "[[ 1  1 -1]\n",
      " [-1 -1 -1]\n",
      " [ 1 -1 -1]]\n"
     ]
    }
   ],
   "source": [
    "a = change_energy(row,column,system)\n",
    "if not abs(deltaE) == abs(a):\n",
    "    print row,column\n",
    "    print system[row-1:row+2,column-1:column+2]\n",
    "    print auxsystem[row-1:row+2,column-1:column+2]"
   ]
  },
  {
   "cell_type": "code",
   "execution_count": 348,
   "metadata": {
    "collapsed": false
   },
   "outputs": [],
   "source": [
    "c  = system==auxsystem"
   ]
  },
  {
   "cell_type": "code",
   "execution_count": 211,
   "metadata": {
    "collapsed": false
   },
   "outputs": [],
   "source": [
    "mac,mbc = myenergy(system[row-1:row+2,column-1:column+2])\n",
    "ma,mb = myenergy(system)"
   ]
  },
  {
   "cell_type": "code",
   "execution_count": 212,
   "metadata": {
    "collapsed": false
   },
   "outputs": [],
   "source": [
    "asd,asdd = myenergy(auxsystem[row-1:row+2,column-1:column+2])\n",
    "aa,ab = myenergy(auxsystem)"
   ]
  },
  {
   "cell_type": "code",
   "execution_count": 232,
   "metadata": {
    "collapsed": false
   },
   "outputs": [
    {
     "name": "stdout",
     "output_type": "stream",
     "text": [
      "[[ 1  1 -1 -1]\n",
      " [ 1  1  1 -1]\n",
      " [ 1  5 -1  1]\n",
      " [-1 -1  1 -1]\n",
      " [-1  1  1 -1]]\n",
      "[[ 0 -1  1  0]\n",
      " [ 0 -1  1  1]\n",
      " [ 0  0  1  1]\n",
      " [ 0  0  1  0]\n",
      " [ 0  1 -1  1]]\n",
      "[[ 0 -1  1  0]\n",
      " [ 0 -2  1  1]\n",
      " [ 0  0  2  1]\n",
      " [ 0  1  1  0]\n",
      " [ 0  1 -1  1]]\n",
      "False\n"
     ]
    },
    {
     "name": "stderr",
     "output_type": "stream",
     "text": [
      "/home/brais/anaconda2/lib/python2.7/site-packages/ipykernel/__main__.py:6: DeprecationWarning: elementwise == comparison failed; this will raise an error in the future.\n"
     ]
    }
   ],
   "source": [
    "auxsystem[row,column] = 5\n",
    "print auxsystem[row-2:row+3,column-1:column+3]\n",
    "\n",
    "print mb[row-2:row+3,column-1:column+3]\n",
    "print ab[row-2:row+3,column-1:column+3]\n",
    "print ab[row-2:row+3,column-1:column+3]==mb[row-2:row+3,column-2:column+3]"
   ]
  },
  {
   "cell_type": "code",
   "execution_count": null,
   "metadata": {
    "collapsed": true
   },
   "outputs": [],
   "source": []
  }
 ],
 "metadata": {
  "anaconda-cloud": {},
  "kernelspec": {
   "display_name": "Python [default]",
   "language": "python",
   "name": "python2"
  },
  "language_info": {
   "codemirror_mode": {
    "name": "ipython",
    "version": 2
   },
   "file_extension": ".py",
   "mimetype": "text/x-python",
   "name": "python",
   "nbconvert_exporter": "python",
   "pygments_lexer": "ipython2",
   "version": "2.7.12"
  }
 },
 "nbformat": 4,
 "nbformat_minor": 1
}
